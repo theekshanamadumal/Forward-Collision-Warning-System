{
 "cells": [
  {
   "cell_type": "code",
   "execution_count": null,
   "id": "21de39bd",
   "metadata": {},
   "outputs": [],
   "source": [
    "export CUDA_HOME=/home/chirathv97/anaconda3/envs/yolo3dpy37\n",
    "#/home/theekshana/anaconda3/envs/YOLO3D/\n",
    "#/usr/local/cuda \n",
    "export LD_LIBRARY_PATH=$LD_LIBRARY_PATH:/usr/local/cuda\n",
    "# /home/chirathv97/anaconda3/pkgs/cuda-nvcc-11.6.124-hbba6d2d_0/bin/nvcc\n",
    "export CUDA_TOOLKIT_ROOT_DIR=$CUDA_HOME\n",
    "export LD_LIBRARY_PATH=\"$CUDA_HOME/extras/CUPTI/lib64:$LD_LIBRARY_PATH\"\n",
    "export LIBRARY_PATH=$CUDA_HOME/lib64:$LIBRARY_PATH\n",
    "export LD_LIBRARY_PATH=$CUDA_HOME/lib64:$LD_LIBRARY_PATH\n",
    "export CFLAGS=\"-fopenmp -I$CUDA_HOME/include $CFLAGS\"\n",
    "python3 setup.py build_ext --inplace\n"
   ]
  },
  {
   "cell_type": "code",
   "execution_count": 4,
   "id": "1263af1b",
   "metadata": {},
   "outputs": [
    {
     "name": "stdout",
     "output_type": "stream",
     "text": [
      "CUDA available: True\n"
     ]
    }
   ],
   "source": [
    "import torch\n",
    "# Is CUDA available now?\n",
    "print('CUDA available: {}'.format(torch.cuda.is_available()))"
   ]
  },
  {
   "cell_type": "code",
   "execution_count": 5,
   "id": "fb821ce0",
   "metadata": {},
   "outputs": [
    {
     "name": "stdout",
     "output_type": "stream",
     "text": [
      "# conda environments:\r\n",
      "#\r\n",
      "base                     /home/chirathv97/anaconda3\r\n",
      "yolo3dpy37            *  /home/chirathv97/anaconda3/envs/yolo3dpy37\r\n",
      "\r\n"
     ]
    }
   ],
   "source": [
    "!conda env list"
   ]
  },
  {
   "cell_type": "code",
   "execution_count": 6,
   "id": "a5018fb9",
   "metadata": {},
   "outputs": [
    {
     "data": {
      "text/plain": [
       "'/home/chirathv97/FYP/visualDet3D'"
      ]
     },
     "execution_count": 6,
     "metadata": {},
     "output_type": "execute_result"
    }
   ],
   "source": [
    "import os\n",
    "os.getcwd()"
   ]
  },
  {
   "cell_type": "code",
   "execution_count": 18,
   "id": "1d891d39",
   "metadata": {},
   "outputs": [
    {
     "name": "stdout",
     "output_type": "stream",
     "text": [
      "/home/chirathv97/FYP/visualDet3D\n"
     ]
    }
   ],
   "source": [
    "# cd visualDet3D"
   ]
  },
  {
   "cell_type": "code",
   "execution_count": 2,
   "id": "80f29aef",
   "metadata": {},
   "outputs": [],
   "source": [
    "# !chmod 777 -R /home/theekshana/Documents/visualDet3D"
   ]
  },
  {
   "cell_type": "code",
   "execution_count": 7,
   "id": "650d0efd",
   "metadata": {
    "scrolled": false
   },
   "outputs": [
    {
     "name": "stdout",
     "output_type": "stream",
     "text": [
      "Requirement already satisfied: numpy in /home/chirathv97/anaconda3/envs/yolo3dpy37/lib/python3.7/site-packages (from -r requirement.txt (line 1)) (1.21.5)\n",
      "Requirement already satisfied: torch in /home/chirathv97/anaconda3/envs/yolo3dpy37/lib/python3.7/site-packages (from -r requirement.txt (line 2)) (1.13.1)\n",
      "Requirement already satisfied: torchvision in /home/chirathv97/anaconda3/envs/yolo3dpy37/lib/python3.7/site-packages (from -r requirement.txt (line 3)) (0.14.1)\n",
      "Requirement already satisfied: pillow in /home/chirathv97/anaconda3/envs/yolo3dpy37/lib/python3.7/site-packages (from -r requirement.txt (line 4)) (9.4.0)\n",
      "Requirement already satisfied: scikit-image in /home/chirathv97/anaconda3/envs/yolo3dpy37/lib/python3.7/site-packages (from -r requirement.txt (line 5)) (0.17.2)\n",
      "Requirement already satisfied: fire in /home/chirathv97/anaconda3/envs/yolo3dpy37/lib/python3.7/site-packages (from -r requirement.txt (line 6)) (0.5.0)\n",
      "Requirement already satisfied: matplotlib in /home/chirathv97/anaconda3/envs/yolo3dpy37/lib/python3.7/site-packages (from -r requirement.txt (line 7)) (3.5.3)\n",
      "Requirement already satisfied: opencv-python in /home/chirathv97/anaconda3/envs/yolo3dpy37/lib/python3.7/site-packages (from -r requirement.txt (line 8)) (4.7.0.72)\n",
      "Requirement already satisfied: numba in /home/chirathv97/anaconda3/envs/yolo3dpy37/lib/python3.7/site-packages (from -r requirement.txt (line 9)) (0.56.4)\n",
      "Requirement already satisfied: easydict in /home/chirathv97/anaconda3/envs/yolo3dpy37/lib/python3.7/site-packages (from -r requirement.txt (line 10)) (1.10)\n",
      "Requirement already satisfied: tensorflow>=2.0 in /home/chirathv97/anaconda3/envs/yolo3dpy37/lib/python3.7/site-packages (from -r requirement.txt (line 11)) (2.11.0)\n",
      "Requirement already satisfied: cython in /home/chirathv97/anaconda3/envs/yolo3dpy37/lib/python3.7/site-packages (from -r requirement.txt (line 12)) (0.29.33)\n",
      "Requirement already satisfied: tqdm in /home/chirathv97/anaconda3/envs/yolo3dpy37/lib/python3.7/site-packages (from -r requirement.txt (line 13)) (4.65.0)\n",
      "Requirement already satisfied: pyquaternion in /home/chirathv97/anaconda3/envs/yolo3dpy37/lib/python3.7/site-packages (from -r requirement.txt (line 14)) (0.9.9)\n",
      "Requirement already satisfied: typing_extensions in /home/chirathv97/anaconda3/envs/yolo3dpy37/lib/python3.7/site-packages (from torch->-r requirement.txt (line 2)) (4.3.0)\n",
      "Requirement already satisfied: requests in /home/chirathv97/anaconda3/envs/yolo3dpy37/lib/python3.7/site-packages (from torchvision->-r requirement.txt (line 3)) (2.28.1)\n",
      "Requirement already satisfied: networkx>=2.0 in /home/chirathv97/anaconda3/envs/yolo3dpy37/lib/python3.7/site-packages (from scikit-image->-r requirement.txt (line 5)) (2.6.3)\n",
      "Requirement already satisfied: tifffile>=2019.7.26 in /home/chirathv97/anaconda3/envs/yolo3dpy37/lib/python3.7/site-packages (from scikit-image->-r requirement.txt (line 5)) (2021.11.2)\n",
      "Requirement already satisfied: scipy>=1.0.1 in /home/chirathv97/anaconda3/envs/yolo3dpy37/lib/python3.7/site-packages (from scikit-image->-r requirement.txt (line 5)) (1.7.3)\n",
      "Requirement already satisfied: PyWavelets>=1.1.1 in /home/chirathv97/anaconda3/envs/yolo3dpy37/lib/python3.7/site-packages (from scikit-image->-r requirement.txt (line 5)) (1.3.0)\n",
      "Requirement already satisfied: imageio>=2.3.0 in /home/chirathv97/anaconda3/envs/yolo3dpy37/lib/python3.7/site-packages (from scikit-image->-r requirement.txt (line 5)) (2.26.1)\n",
      "Requirement already satisfied: termcolor in /home/chirathv97/anaconda3/envs/yolo3dpy37/lib/python3.7/site-packages (from fire->-r requirement.txt (line 6)) (2.2.0)\n",
      "Requirement already satisfied: six in /home/chirathv97/anaconda3/envs/yolo3dpy37/lib/python3.7/site-packages (from fire->-r requirement.txt (line 6)) (1.16.0)\n",
      "Requirement already satisfied: kiwisolver>=1.0.1 in /home/chirathv97/anaconda3/envs/yolo3dpy37/lib/python3.7/site-packages (from matplotlib->-r requirement.txt (line 7)) (1.4.4)\n",
      "Requirement already satisfied: cycler>=0.10 in /home/chirathv97/anaconda3/envs/yolo3dpy37/lib/python3.7/site-packages (from matplotlib->-r requirement.txt (line 7)) (0.11.0)\n",
      "Requirement already satisfied: fonttools>=4.22.0 in /home/chirathv97/anaconda3/envs/yolo3dpy37/lib/python3.7/site-packages (from matplotlib->-r requirement.txt (line 7)) (4.38.0)\n",
      "Requirement already satisfied: python-dateutil>=2.7 in /home/chirathv97/anaconda3/envs/yolo3dpy37/lib/python3.7/site-packages (from matplotlib->-r requirement.txt (line 7)) (2.8.2)\n",
      "Requirement already satisfied: pyparsing>=2.2.1 in /home/chirathv97/anaconda3/envs/yolo3dpy37/lib/python3.7/site-packages (from matplotlib->-r requirement.txt (line 7)) (3.0.9)\n",
      "Requirement already satisfied: packaging>=20.0 in /home/chirathv97/anaconda3/envs/yolo3dpy37/lib/python3.7/site-packages (from matplotlib->-r requirement.txt (line 7)) (22.0)\n",
      "Requirement already satisfied: setuptools in /home/chirathv97/anaconda3/envs/yolo3dpy37/lib/python3.7/site-packages (from numba->-r requirement.txt (line 9)) (65.6.3)\n",
      "Requirement already satisfied: llvmlite<0.40,>=0.39.0dev0 in /home/chirathv97/anaconda3/envs/yolo3dpy37/lib/python3.7/site-packages (from numba->-r requirement.txt (line 9)) (0.39.1)\n",
      "Requirement already satisfied: importlib-metadata in /home/chirathv97/anaconda3/envs/yolo3dpy37/lib/python3.7/site-packages (from numba->-r requirement.txt (line 9)) (6.1.0)\n",
      "Requirement already satisfied: tensorboard<2.12,>=2.11 in /home/chirathv97/anaconda3/envs/yolo3dpy37/lib/python3.7/site-packages (from tensorflow>=2.0->-r requirement.txt (line 11)) (2.11.2)\n",
      "Requirement already satisfied: tensorflow-estimator<2.12,>=2.11.0 in /home/chirathv97/anaconda3/envs/yolo3dpy37/lib/python3.7/site-packages (from tensorflow>=2.0->-r requirement.txt (line 11)) (2.11.0)\n",
      "Requirement already satisfied: gast<=0.4.0,>=0.2.1 in /home/chirathv97/anaconda3/envs/yolo3dpy37/lib/python3.7/site-packages (from tensorflow>=2.0->-r requirement.txt (line 11)) (0.4.0)\n",
      "Requirement already satisfied: flatbuffers>=2.0 in /home/chirathv97/anaconda3/envs/yolo3dpy37/lib/python3.7/site-packages (from tensorflow>=2.0->-r requirement.txt (line 11)) (23.3.3)\n",
      "Requirement already satisfied: grpcio<2.0,>=1.24.3 in /home/chirathv97/anaconda3/envs/yolo3dpy37/lib/python3.7/site-packages (from tensorflow>=2.0->-r requirement.txt (line 11)) (1.51.3)\n",
      "Requirement already satisfied: wrapt>=1.11.0 in /home/chirathv97/anaconda3/envs/yolo3dpy37/lib/python3.7/site-packages (from tensorflow>=2.0->-r requirement.txt (line 11)) (1.15.0)\n",
      "Requirement already satisfied: keras<2.12,>=2.11.0 in /home/chirathv97/anaconda3/envs/yolo3dpy37/lib/python3.7/site-packages (from tensorflow>=2.0->-r requirement.txt (line 11)) (2.11.0)\n",
      "Requirement already satisfied: astunparse>=1.6.0 in /home/chirathv97/anaconda3/envs/yolo3dpy37/lib/python3.7/site-packages (from tensorflow>=2.0->-r requirement.txt (line 11)) (1.6.3)\n",
      "Requirement already satisfied: protobuf<3.20,>=3.9.2 in /home/chirathv97/anaconda3/envs/yolo3dpy37/lib/python3.7/site-packages (from tensorflow>=2.0->-r requirement.txt (line 11)) (3.19.6)\n",
      "Requirement already satisfied: google-pasta>=0.1.1 in /home/chirathv97/anaconda3/envs/yolo3dpy37/lib/python3.7/site-packages (from tensorflow>=2.0->-r requirement.txt (line 11)) (0.2.0)\n",
      "Requirement already satisfied: tensorflow-io-gcs-filesystem>=0.23.1 in /home/chirathv97/anaconda3/envs/yolo3dpy37/lib/python3.7/site-packages (from tensorflow>=2.0->-r requirement.txt (line 11)) (0.31.0)\n",
      "Requirement already satisfied: opt-einsum>=2.3.2 in /home/chirathv97/anaconda3/envs/yolo3dpy37/lib/python3.7/site-packages (from tensorflow>=2.0->-r requirement.txt (line 11)) (3.3.0)\n",
      "Requirement already satisfied: h5py>=2.9.0 in /home/chirathv97/anaconda3/envs/yolo3dpy37/lib/python3.7/site-packages (from tensorflow>=2.0->-r requirement.txt (line 11)) (3.8.0)\n",
      "Requirement already satisfied: absl-py>=1.0.0 in /home/chirathv97/anaconda3/envs/yolo3dpy37/lib/python3.7/site-packages (from tensorflow>=2.0->-r requirement.txt (line 11)) (1.4.0)\n",
      "Requirement already satisfied: libclang>=13.0.0 in /home/chirathv97/anaconda3/envs/yolo3dpy37/lib/python3.7/site-packages (from tensorflow>=2.0->-r requirement.txt (line 11)) (16.0.0)\n",
      "Requirement already satisfied: wheel<1.0,>=0.23.0 in /home/chirathv97/anaconda3/envs/yolo3dpy37/lib/python3.7/site-packages (from astunparse>=1.6.0->tensorflow>=2.0->-r requirement.txt (line 11)) (0.38.4)\n"
     ]
    },
    {
     "name": "stdout",
     "output_type": "stream",
     "text": [
      "Requirement already satisfied: markdown>=2.6.8 in /home/chirathv97/anaconda3/envs/yolo3dpy37/lib/python3.7/site-packages (from tensorboard<2.12,>=2.11->tensorflow>=2.0->-r requirement.txt (line 11)) (3.4.3)\n",
      "Requirement already satisfied: google-auth-oauthlib<0.5,>=0.4.1 in /home/chirathv97/anaconda3/envs/yolo3dpy37/lib/python3.7/site-packages (from tensorboard<2.12,>=2.11->tensorflow>=2.0->-r requirement.txt (line 11)) (0.4.6)\n",
      "Requirement already satisfied: google-auth<3,>=1.6.3 in /home/chirathv97/anaconda3/envs/yolo3dpy37/lib/python3.7/site-packages (from tensorboard<2.12,>=2.11->tensorflow>=2.0->-r requirement.txt (line 11)) (2.16.3)\n",
      "Requirement already satisfied: tensorboard-plugin-wit>=1.6.0 in /home/chirathv97/anaconda3/envs/yolo3dpy37/lib/python3.7/site-packages (from tensorboard<2.12,>=2.11->tensorflow>=2.0->-r requirement.txt (line 11)) (1.8.1)\n",
      "Requirement already satisfied: tensorboard-data-server<0.7.0,>=0.6.0 in /home/chirathv97/anaconda3/envs/yolo3dpy37/lib/python3.7/site-packages (from tensorboard<2.12,>=2.11->tensorflow>=2.0->-r requirement.txt (line 11)) (0.6.1)\n",
      "Requirement already satisfied: werkzeug>=1.0.1 in /home/chirathv97/anaconda3/envs/yolo3dpy37/lib/python3.7/site-packages (from tensorboard<2.12,>=2.11->tensorflow>=2.0->-r requirement.txt (line 11)) (2.2.3)\n",
      "Requirement already satisfied: charset-normalizer<3,>=2 in /home/chirathv97/anaconda3/envs/yolo3dpy37/lib/python3.7/site-packages (from requests->torchvision->-r requirement.txt (line 3)) (2.0.4)\n",
      "Requirement already satisfied: certifi>=2017.4.17 in /home/chirathv97/anaconda3/envs/yolo3dpy37/lib/python3.7/site-packages (from requests->torchvision->-r requirement.txt (line 3)) (2022.12.7)\n",
      "Requirement already satisfied: urllib3<1.27,>=1.21.1 in /home/chirathv97/anaconda3/envs/yolo3dpy37/lib/python3.7/site-packages (from requests->torchvision->-r requirement.txt (line 3)) (1.26.14)\n",
      "Requirement already satisfied: idna<4,>=2.5 in /home/chirathv97/anaconda3/envs/yolo3dpy37/lib/python3.7/site-packages (from requests->torchvision->-r requirement.txt (line 3)) (3.4)\n",
      "Requirement already satisfied: zipp>=0.5 in /home/chirathv97/anaconda3/envs/yolo3dpy37/lib/python3.7/site-packages (from importlib-metadata->numba->-r requirement.txt (line 9)) (3.15.0)\n",
      "Requirement already satisfied: pyasn1-modules>=0.2.1 in /home/chirathv97/anaconda3/envs/yolo3dpy37/lib/python3.7/site-packages (from google-auth<3,>=1.6.3->tensorboard<2.12,>=2.11->tensorflow>=2.0->-r requirement.txt (line 11)) (0.2.8)\n",
      "Requirement already satisfied: rsa<5,>=3.1.4 in /home/chirathv97/anaconda3/envs/yolo3dpy37/lib/python3.7/site-packages (from google-auth<3,>=1.6.3->tensorboard<2.12,>=2.11->tensorflow>=2.0->-r requirement.txt (line 11)) (4.9)\n",
      "Requirement already satisfied: cachetools<6.0,>=2.0.0 in /home/chirathv97/anaconda3/envs/yolo3dpy37/lib/python3.7/site-packages (from google-auth<3,>=1.6.3->tensorboard<2.12,>=2.11->tensorflow>=2.0->-r requirement.txt (line 11)) (5.3.0)\n",
      "Requirement already satisfied: requests-oauthlib>=0.7.0 in /home/chirathv97/anaconda3/envs/yolo3dpy37/lib/python3.7/site-packages (from google-auth-oauthlib<0.5,>=0.4.1->tensorboard<2.12,>=2.11->tensorflow>=2.0->-r requirement.txt (line 11)) (1.3.1)\n",
      "Requirement already satisfied: MarkupSafe>=2.1.1 in /home/chirathv97/anaconda3/envs/yolo3dpy37/lib/python3.7/site-packages (from werkzeug>=1.0.1->tensorboard<2.12,>=2.11->tensorflow>=2.0->-r requirement.txt (line 11)) (2.1.1)\n",
      "Requirement already satisfied: pyasn1<0.5.0,>=0.4.6 in /home/chirathv97/anaconda3/envs/yolo3dpy37/lib/python3.7/site-packages (from pyasn1-modules>=0.2.1->google-auth<3,>=1.6.3->tensorboard<2.12,>=2.11->tensorflow>=2.0->-r requirement.txt (line 11)) (0.4.8)\n",
      "Requirement already satisfied: oauthlib>=3.0.0 in /home/chirathv97/anaconda3/envs/yolo3dpy37/lib/python3.7/site-packages (from requests-oauthlib>=0.7.0->google-auth-oauthlib<0.5,>=0.4.1->tensorboard<2.12,>=2.11->tensorflow>=2.0->-r requirement.txt (line 11)) (3.2.2)\n"
     ]
    }
   ],
   "source": [
    "!pip install -r requirement.txt"
   ]
  },
  {
   "cell_type": "code",
   "execution_count": 8,
   "id": "d70a1ec0",
   "metadata": {},
   "outputs": [
    {
     "name": "stdout",
     "output_type": "stream",
     "text": [
      "~/FYP/visualDet3D/visualDet3D/networks/lib/ops/dcn ~/FYP/visualDet3D\n",
      "running build_ext\n",
      "building '..deform_conv_ext' extension\n",
      "Emitting ninja build file /home/chirathv97/FYP/visualDet3D/visualDet3D/networks/lib/ops/dcn/build/temp.linux-x86_64-cpython-37/build.ninja...\n",
      "Compiling objects...\n",
      "Allowing ninja to set a default number of workers... (overridable by setting the environment variable MAX_JOBS=N)\n",
      "[1/1] /home/chirathv97/anaconda3/envs/yolo3dpy37/bin/nvcc  -DWITH_CUDA -I/home/chirathv97/anaconda3/envs/yolo3dpy37/lib/python3.7/site-packages/torch/include -I/home/chirathv97/anaconda3/envs/yolo3dpy37/lib/python3.7/site-packages/torch/include/torch/csrc/api/include -I/home/chirathv97/anaconda3/envs/yolo3dpy37/lib/python3.7/site-packages/torch/include/TH -I/home/chirathv97/anaconda3/envs/yolo3dpy37/lib/python3.7/site-packages/torch/include/THC -I/home/chirathv97/anaconda3/envs/yolo3dpy37/include -I/home/chirathv97/anaconda3/envs/yolo3dpy37/include/python3.7m -c -c /home/chirathv97/FYP/visualDet3D/visualDet3D/networks/lib/ops/dcn/src/cuda/deform_conv_cuda_kernel.cu -o /home/chirathv97/FYP/visualDet3D/visualDet3D/networks/lib/ops/dcn/build/temp.linux-x86_64-cpython-37/src/cuda/deform_conv_cuda_kernel.o -D__CUDA_NO_HALF_OPERATORS__ -D__CUDA_NO_HALF_CONVERSIONS__ -D__CUDA_NO_BFLOAT16_CONVERSIONS__ -D__CUDA_NO_HALF2_OPERATORS__ --expt-relaxed-constexpr --compiler-options ''\"'\"'-fPIC'\"'\"'' -D__CUDA_NO_HALF_OPERATORS__ -D__CUDA_NO_HALF_CONVERSIONS__ -D__CUDA_NO_HALF2_OPERATORS__ -DTORCH_API_INCLUDE_EXTENSION_H '-DPYBIND11_COMPILER_TYPE=\"_gcc\"' '-DPYBIND11_STDLIB=\"_libstdcpp\"' '-DPYBIND11_BUILD_ABI=\"_cxxabi1011\"' -DTORCH_EXTENSION_NAME=deform_conv_ext -D_GLIBCXX_USE_CXX11_ABI=0 -gencode=arch=compute_86,code=compute_86 -gencode=arch=compute_86,code=sm_86 -std=c++14\n",
      "\u001b[31mFAILED: \u001b[0m/home/chirathv97/FYP/visualDet3D/visualDet3D/networks/lib/ops/dcn/build/temp.linux-x86_64-cpython-37/src/cuda/deform_conv_cuda_kernel.o \n",
      "/home/chirathv97/anaconda3/envs/yolo3dpy37/bin/nvcc  -DWITH_CUDA -I/home/chirathv97/anaconda3/envs/yolo3dpy37/lib/python3.7/site-packages/torch/include -I/home/chirathv97/anaconda3/envs/yolo3dpy37/lib/python3.7/site-packages/torch/include/torch/csrc/api/include -I/home/chirathv97/anaconda3/envs/yolo3dpy37/lib/python3.7/site-packages/torch/include/TH -I/home/chirathv97/anaconda3/envs/yolo3dpy37/lib/python3.7/site-packages/torch/include/THC -I/home/chirathv97/anaconda3/envs/yolo3dpy37/include -I/home/chirathv97/anaconda3/envs/yolo3dpy37/include/python3.7m -c -c /home/chirathv97/FYP/visualDet3D/visualDet3D/networks/lib/ops/dcn/src/cuda/deform_conv_cuda_kernel.cu -o /home/chirathv97/FYP/visualDet3D/visualDet3D/networks/lib/ops/dcn/build/temp.linux-x86_64-cpython-37/src/cuda/deform_conv_cuda_kernel.o -D__CUDA_NO_HALF_OPERATORS__ -D__CUDA_NO_HALF_CONVERSIONS__ -D__CUDA_NO_BFLOAT16_CONVERSIONS__ -D__CUDA_NO_HALF2_OPERATORS__ --expt-relaxed-constexpr --compiler-options ''\"'\"'-fPIC'\"'\"'' -D__CUDA_NO_HALF_OPERATORS__ -D__CUDA_NO_HALF_CONVERSIONS__ -D__CUDA_NO_HALF2_OPERATORS__ -DTORCH_API_INCLUDE_EXTENSION_H '-DPYBIND11_COMPILER_TYPE=\"_gcc\"' '-DPYBIND11_STDLIB=\"_libstdcpp\"' '-DPYBIND11_BUILD_ABI=\"_cxxabi1011\"' -DTORCH_EXTENSION_NAME=deform_conv_ext -D_GLIBCXX_USE_CXX11_ABI=0 -gencode=arch=compute_86,code=compute_86 -gencode=arch=compute_86,code=sm_86 -std=c++14\n",
      "In file included from /home/chirathv97/FYP/visualDet3D/visualDet3D/networks/lib/ops/dcn/src/cuda/deform_conv_cuda_kernel.cu:64:\n",
      "/home/chirathv97/anaconda3/envs/yolo3dpy37/lib/python3.7/site-packages/torch/include/ATen/cuda/CUDAContext.h:10:10: fatal error: cusolverDn.h: No such file or directory\n",
      "   10 | #include <cusolverDn.h>\n",
      "      |          ^~~~~~~~~~~~~~\n",
      "compilation terminated.\n",
      "ninja: build stopped: subcommand failed.\n",
      "Traceback (most recent call last):\n",
      "  File \"/home/chirathv97/anaconda3/envs/yolo3dpy37/lib/python3.7/site-packages/torch/utils/cpp_extension.py\", line 1906, in _run_ninja_build\n",
      "    env=env)\n",
      "  File \"/home/chirathv97/anaconda3/envs/yolo3dpy37/lib/python3.7/subprocess.py\", line 512, in run\n",
      "    output=stdout, stderr=stderr)\n",
      "subprocess.CalledProcessError: Command '['ninja', '-v']' returned non-zero exit status 1.\n",
      "\n",
      "The above exception was the direct cause of the following exception:\n",
      "\n",
      "Traceback (most recent call last):\n",
      "  File \"setup.py\", line 198, in <module>\n",
      "    zip_safe=False)\n",
      "  File \"/home/chirathv97/anaconda3/envs/yolo3dpy37/lib/python3.7/site-packages/setuptools/__init__.py\", line 87, in setup\n",
      "    return distutils.core.setup(**attrs)\n",
      "  File \"/home/chirathv97/anaconda3/envs/yolo3dpy37/lib/python3.7/site-packages/setuptools/_distutils/core.py\", line 185, in setup\n",
      "    return run_commands(dist)\n",
      "  File \"/home/chirathv97/anaconda3/envs/yolo3dpy37/lib/python3.7/site-packages/setuptools/_distutils/core.py\", line 201, in run_commands\n",
      "    dist.run_commands()\n",
      "  File \"/home/chirathv97/anaconda3/envs/yolo3dpy37/lib/python3.7/site-packages/setuptools/_distutils/dist.py\", line 969, in run_commands\n",
      "    self.run_command(cmd)\n",
      "  File \"/home/chirathv97/anaconda3/envs/yolo3dpy37/lib/python3.7/site-packages/setuptools/dist.py\", line 1208, in run_command\n",
      "    super().run_command(command)\n",
      "  File \"/home/chirathv97/anaconda3/envs/yolo3dpy37/lib/python3.7/site-packages/setuptools/_distutils/dist.py\", line 988, in run_command\n",
      "    cmd_obj.run()\n",
      "  File \"/home/chirathv97/anaconda3/envs/yolo3dpy37/lib/python3.7/site-packages/setuptools/command/build_ext.py\", line 84, in run\n",
      "    _build_ext.run(self)\n",
      "  File \"/home/chirathv97/anaconda3/envs/yolo3dpy37/lib/python3.7/site-packages/Cython/Distutils/old_build_ext.py\", line 186, in run\n",
      "    _build_ext.build_ext.run(self)\n",
      "  File \"/home/chirathv97/anaconda3/envs/yolo3dpy37/lib/python3.7/site-packages/setuptools/_distutils/command/build_ext.py\", line 346, in run\n",
      "    self.build_extensions()\n",
      "  File \"/home/chirathv97/anaconda3/envs/yolo3dpy37/lib/python3.7/site-packages/torch/utils/cpp_extension.py\", line 843, in build_extensions\n",
      "    build_ext.build_extensions(self)\n",
      "  File \"/home/chirathv97/anaconda3/envs/yolo3dpy37/lib/python3.7/site-packages/Cython/Distutils/old_build_ext.py\", line 195, in build_extensions\n",
      "    _build_ext.build_ext.build_extensions(self)\n",
      "  File \"/home/chirathv97/anaconda3/envs/yolo3dpy37/lib/python3.7/site-packages/setuptools/_distutils/command/build_ext.py\", line 468, in build_extensions\n",
      "    self._build_extensions_serial()\n",
      "  File \"/home/chirathv97/anaconda3/envs/yolo3dpy37/lib/python3.7/site-packages/setuptools/_distutils/command/build_ext.py\", line 494, in _build_extensions_serial\n",
      "    self.build_extension(ext)\n",
      "  File \"/home/chirathv97/anaconda3/envs/yolo3dpy37/lib/python3.7/site-packages/setuptools/command/build_ext.py\", line 246, in build_extension\n",
      "    _build_ext.build_extension(self, ext)\n",
      "  File \"/home/chirathv97/anaconda3/envs/yolo3dpy37/lib/python3.7/site-packages/setuptools/_distutils/command/build_ext.py\", line 556, in build_extension\n",
      "    depends=ext.depends,\n",
      "  File \"/home/chirathv97/anaconda3/envs/yolo3dpy37/lib/python3.7/site-packages/torch/utils/cpp_extension.py\", line 668, in unix_wrap_ninja_compile\n",
      "    with_cuda=with_cuda)\n",
      "  File \"/home/chirathv97/anaconda3/envs/yolo3dpy37/lib/python3.7/site-packages/torch/utils/cpp_extension.py\", line 1578, in _write_ninja_file_and_compile_objects\n",
      "    error_prefix='Error compiling objects for extension')\n",
      "  File \"/home/chirathv97/anaconda3/envs/yolo3dpy37/lib/python3.7/site-packages/torch/utils/cpp_extension.py\", line 1916, in _run_ninja_build\n",
      "    raise RuntimeError(message) from e\n",
      "RuntimeError: Error compiling objects for extension\n"
     ]
    }
   ],
   "source": [
    "!./make.sh"
   ]
  },
  {
   "cell_type": "code",
   "execution_count": 3,
   "id": "ee733642",
   "metadata": {},
   "outputs": [
    {
     "data": {
      "text/plain": [
       "'11.6'"
      ]
     },
     "execution_count": 3,
     "metadata": {},
     "output_type": "execute_result"
    }
   ],
   "source": [
    "torch.version.cuda"
   ]
  },
  {
   "cell_type": "code",
   "execution_count": 54,
   "id": "9321e4b8",
   "metadata": {
    "scrolled": true
   },
   "outputs": [
    {
     "name": "stdout",
     "output_type": "stream",
     "text": [
      "Requirement already satisfied: coloredlogs in /home/theekshana/anaconda3/envs/YOLO3D/lib/python3.7/site-packages (15.0.1)\r\n",
      "Requirement already satisfied: humanfriendly>=9.1 in /home/theekshana/anaconda3/envs/YOLO3D/lib/python3.7/site-packages (from coloredlogs) (10.0)\r\n"
     ]
    }
   ],
   "source": [
    "!pip install coloredlogs"
   ]
  },
  {
   "cell_type": "code",
   "execution_count": 21,
   "id": "2d8ee786",
   "metadata": {},
   "outputs": [
    {
     "data": {
      "text/plain": [
       "'/home/theekshana/Documents/visualDet3D'"
      ]
     },
     "execution_count": 21,
     "metadata": {},
     "output_type": "execute_result"
    }
   ],
   "source": [
    "%pwd"
   ]
  },
  {
   "cell_type": "code",
   "execution_count": 24,
   "id": "736b5f6c",
   "metadata": {},
   "outputs": [],
   "source": [
    "import sys\n",
    "# sys.path.append(\"../\")\n",
    "import importlib\n",
    "import os\n",
    "import copy\n",
    "import numpy as np\n",
    "import matplotlib.pyplot as plt\n",
    "import cv2\n",
    "import cython\n",
    "import torch\n",
    "import torch.nn as nn\n",
    "from torch.utils.data import Dataset, DataLoader\n",
    "from torch.utils.tensorboard import SummaryWriter\n",
    "from torchvision import datasets, models, transforms\n",
    "import torchvision\n",
    "from numba import jit\n",
    "from tqdm import tqdm"
   ]
  },
  {
   "cell_type": "code",
   "execution_count": 25,
   "id": "b80965d2",
   "metadata": {},
   "outputs": [],
   "source": [
    "from visualDet3D.data.kitti.utils import write_result_to_file\n",
    "from visualDet3D.utils.utils import LossLogger, cfg_from_file\n",
    "from visualDet3D.networks.utils.registry import DETECTOR_DICT, DATASET_DICT, PIPELINE_DICT\n",
    "from visualDet3D.networks.heads.anchors import Anchors\n",
    "from visualDet3D.networks.lib.fast_utils.hill_climbing import post_opt\n",
    "from visualDet3D.networks.utils import BBox3dProjector, BackProjection\n",
    "from visualDet3D.utils.utils import convertAlpha2Rot, convertRot2Alpha, draw_3D_box, compound_annotation\n",
    "import visualDet3D.data.kitti.dataset\n",
    "from visualDet3D.utils.timer import Timer"
   ]
  },
  {
   "cell_type": "code",
   "execution_count": 3,
   "id": "cacb1c0d",
   "metadata": {},
   "outputs": [
    {
     "ename": "NameError",
     "evalue": "name 'torch' is not defined",
     "output_type": "error",
     "traceback": [
      "\u001b[0;31m---------------------------------------------------------------------------\u001b[0m",
      "\u001b[0;31mNameError\u001b[0m                                 Traceback (most recent call last)",
      "\u001b[0;32m<ipython-input-3-7227ecfeba78>\u001b[0m in \u001b[0;36m<module>\u001b[0;34m()\u001b[0m\n\u001b[0;32m----> 1\u001b[0;31m \u001b[0mprint\u001b[0m\u001b[0;34m(\u001b[0m\u001b[0;34m'CUDA available: {}'\u001b[0m\u001b[0;34m.\u001b[0m\u001b[0mformat\u001b[0m\u001b[0;34m(\u001b[0m\u001b[0mtorch\u001b[0m\u001b[0;34m.\u001b[0m\u001b[0mcuda\u001b[0m\u001b[0;34m.\u001b[0m\u001b[0mis_available\u001b[0m\u001b[0;34m(\u001b[0m\u001b[0;34m)\u001b[0m\u001b[0;34m)\u001b[0m\u001b[0;34m)\u001b[0m\u001b[0;34m\u001b[0m\u001b[0;34m\u001b[0m\u001b[0m\n\u001b[0m\u001b[1;32m      2\u001b[0m \u001b[0;34m\u001b[0m\u001b[0m\n\u001b[1;32m      3\u001b[0m \u001b[0mcfg\u001b[0m \u001b[0;34m=\u001b[0m \u001b[0mcfg_from_file\u001b[0m\u001b[0;34m(\u001b[0m\u001b[0;34m\"config/config.py\"\u001b[0m\u001b[0;34m)\u001b[0m\u001b[0;34m\u001b[0m\u001b[0;34m\u001b[0m\u001b[0m\n\u001b[1;32m      4\u001b[0m \u001b[0mis_test_train\u001b[0m \u001b[0;34m=\u001b[0m \u001b[0;32mTrue\u001b[0m\u001b[0;34m\u001b[0m\u001b[0;34m\u001b[0m\u001b[0m\n\u001b[1;32m      5\u001b[0m \u001b[0;34m\u001b[0m\u001b[0m\n",
      "\u001b[0;31mNameError\u001b[0m: name 'torch' is not defined"
     ]
    }
   ],
   "source": [
    "print('CUDA available: {}'.format(torch.cuda.is_available()))\n",
    "\n",
    "cfg = cfg_from_file(\"config/config.py\")\n",
    "is_test_train = True\n",
    "\n",
    "checkpoint_name = \"Stereo3D_latest.pth\""
   ]
  },
  {
   "cell_type": "code",
   "execution_count": null,
   "id": "8cf861fe",
   "metadata": {},
   "outputs": [],
   "source": [
    "#!./launchers/eval.sh config/config.py 0 $CHECKPOINT_PATH validation/test"
   ]
  },
  {
   "cell_type": "markdown",
   "id": "12afa864",
   "metadata": {},
   "source": [
    "### Compute image database and anchors mean/std"
   ]
  },
  {
   "cell_type": "code",
   "execution_count": 4,
   "id": "0625e5de",
   "metadata": {},
   "outputs": [
    {
     "name": "stdout",
     "output_type": "stream",
     "text": [
      "Precomputation for the training/validation split\n",
      "start reading training data\n",
      "training split finished precomputing02s, eta:1.69s, total_objs:[20792, 3682], usable_objs:[19580, 3288]]\n",
      "start reading validation data\n",
      "validation split finished precomputing00s, eta:0.01s, total_objs:[0, 0], usable_objs:[0, 0]\n",
      "Preprocessing finished\n"
     ]
    }
   ],
   "source": [
    "!./launchers/det_precompute.sh config/config.py train"
   ]
  },
  {
   "cell_type": "code",
   "execution_count": 2,
   "id": "c8ea7c11",
   "metadata": {
    "scrolled": true
   },
   "outputs": [
    {
     "name": "stdout",
     "output_type": "stream",
     "text": [
      "Precomputation for the test split\n",
      "start reading test data\n",
      "test split finished precomputing00s, eta:0.00s\n",
      "Preprocessing finished\n"
     ]
    }
   ],
   "source": [
    "!./launchers/det_precompute.sh config/config.py test"
   ]
  },
  {
   "cell_type": "code",
   "execution_count": null,
   "id": "1debca35",
   "metadata": {},
   "outputs": [],
   "source": [
    "## run this if disparity map is needed, can be computed with point cloud or openCV BlockMatching\n",
    "# You can run ./launcher/disparity_precompute.sh without arguments to see helper documents\n",
    "!./disparity_precompute.sh config/config.py $IsUsingPointCloud"
   ]
  },
  {
   "cell_type": "code",
   "execution_count": null,
   "id": "c62ee375",
   "metadata": {},
   "outputs": [],
   "source": [
    "## train the model with one GPU\n",
    "# You can run ./launcher/train.sh without arguments to see helper documents\n",
    "!./launcher/train.sh  config/config.py 0 $experiment_name # validation goes along"
   ]
  },
  {
   "cell_type": "code",
   "execution_count": null,
   "id": "e5b1afd6",
   "metadata": {},
   "outputs": [],
   "source": [
    "## produce validation/test result # we only support single GPU testing\n",
    "# You can run ./launcher/eval.sh without arguments to see helper documents\n",
    "!./launcher/eval.sh -config/config.py 0 $CHECKPOINT_PATH validation/test"
   ]
  }
 ],
 "metadata": {
  "kernelspec": {
   "display_name": "Python 3",
   "language": "python",
   "name": "python3"
  },
  "language_info": {
   "codemirror_mode": {
    "name": "ipython",
    "version": 3
   },
   "file_extension": ".py",
   "mimetype": "text/x-python",
   "name": "python",
   "nbconvert_exporter": "python",
   "pygments_lexer": "ipython3",
   "version": "3.7.6"
  }
 },
 "nbformat": 4,
 "nbformat_minor": 5
}
